{
 "cells": [
  {
   "cell_type": "code",
   "execution_count": 2,
   "id": "db22a3b8",
   "metadata": {},
   "outputs": [],
   "source": [
    "#Importing the Tensorflow libraries and packages\n",
    "from tensorflow.keras.models import Sequential\n",
    "from tensorflow.keras.layers import Conv2D, MaxPooling2D, Flatten, Dense\n",
    "from tensorflow.keras.preprocessing.image import ImageDataGenerator"
   ]
  },
  {
   "cell_type": "code",
   "execution_count": 3,
   "id": "9ea28724",
   "metadata": {},
   "outputs": [],
   "source": [
    "#Data Augmentation(Add) + preprocessing\n",
    "data_gen_train = ImageDataGenerator(rescale=1./255,rotation_range=30,\n",
    "                                    vertical_flip=True)\n",
    "data_gen_test = ImageDataGenerator(rescale=1./255)\n",
    "\n",
    "#basically i am augmenting the images so we get variety of data"
   ]
  },
  {
   "cell_type": "code",
   "execution_count": 4,
   "id": "707f6802",
   "metadata": {},
   "outputs": [
    {
     "name": "stdout",
     "output_type": "stream",
     "text": [
      "Found 8000 images belonging to 2 classes.\n",
      "Found 2000 images belonging to 2 classes.\n"
     ]
    }
   ],
   "source": [
    "train_X = data_gen_train.flow_from_directory(r'E:\\NIkhil\\Machine Learning\\Work_Space\\dataset\\training_set',\n",
    "                                          target_size=(128,128),\n",
    "                                          batch_size=64,class_mode='binary')\n",
    "test_X = data_gen_train.flow_from_directory(r'E:\\NIkhil\\Machine Learning\\Work_Space\\dataset\\test_set',\n",
    "                                          target_size=(128,128),\n",
    "                                          batch_size=64,class_mode='binary')"
   ]
  },
  {
   "cell_type": "code",
   "execution_count": 5,
   "id": "dc5896d4",
   "metadata": {},
   "outputs": [
    {
     "ename": "AttributeError",
     "evalue": "'DirectoryIterator' object has no attribute 'shape'",
     "output_type": "error",
     "traceback": [
      "\u001b[1;31m---------------------------------------------------------------------------\u001b[0m",
      "\u001b[1;31mAttributeError\u001b[0m                            Traceback (most recent call last)",
      "\u001b[1;32m<ipython-input-5-8913e21115f6>\u001b[0m in \u001b[0;36m<module>\u001b[1;34m\u001b[0m\n\u001b[1;32m----> 1\u001b[1;33m \u001b[0mtrain_X\u001b[0m\u001b[1;33m.\u001b[0m\u001b[0mshape\u001b[0m\u001b[1;33m\u001b[0m\u001b[1;33m\u001b[0m\u001b[0m\n\u001b[0m",
      "\u001b[1;31mAttributeError\u001b[0m: 'DirectoryIterator' object has no attribute 'shape'"
     ]
    }
   ],
   "source": []
  },
  {
   "cell_type": "raw",
   "id": "320ddcee",
   "metadata": {},
   "source": []
  },
  {
   "cell_type": "code",
   "execution_count": 4,
   "id": "9c1b5e65",
   "metadata": {},
   "outputs": [
    {
     "name": "stdout",
     "output_type": "stream",
     "text": [
      "Model: \"sequential\"\n",
      "_________________________________________________________________\n",
      "Layer (type)                 Output Shape              Param #   \n",
      "=================================================================\n",
      "conv2d (Conv2D)              (None, 126, 126, 32)      896       \n",
      "_________________________________________________________________\n",
      "max_pooling2d (MaxPooling2D) (None, 63, 63, 32)        0         \n",
      "_________________________________________________________________\n",
      "conv2d_1 (Conv2D)            (None, 61, 61, 64)        18496     \n",
      "_________________________________________________________________\n",
      "max_pooling2d_1 (MaxPooling2 (None, 30, 30, 64)        0         \n",
      "_________________________________________________________________\n",
      "conv2d_2 (Conv2D)            (None, 28, 28, 64)        36928     \n",
      "_________________________________________________________________\n",
      "max_pooling2d_2 (MaxPooling2 (None, 14, 14, 64)        0         \n",
      "_________________________________________________________________\n",
      "flatten (Flatten)            (None, 12544)             0         \n",
      "_________________________________________________________________\n",
      "dense (Dense)                (None, 400)               5018000   \n",
      "_________________________________________________________________\n",
      "dense_1 (Dense)              (None, 1)                 401       \n",
      "=================================================================\n",
      "Total params: 5,074,721\n",
      "Trainable params: 5,074,721\n",
      "Non-trainable params: 0\n",
      "_________________________________________________________________\n"
     ]
    }
   ],
   "source": [
    "model = Sequential()\n",
    "model.add(Conv2D(filters=32,\n",
    "                kernel_size=(3,3),\n",
    "                input_shape=(128,128,3),\n",
    "                activation='relu'\n",
    "                ))\n",
    "model.add(MaxPooling2D(pool_size=(2,2)))\n",
    "model.add(Conv2D(filters=64,\n",
    "                kernel_size=(3,3),\n",
    "                activation='relu'))\n",
    "model.add(MaxPooling2D(pool_size=(2,2)))\n",
    "model.add(Conv2D(filters=64,\n",
    "                kernel_size=(3,3),\n",
    "                activation='relu'))\n",
    "model.add(MaxPooling2D(pool_size=(2,2)))\n",
    "model.add(Flatten())\n",
    "model.add(Dense(units=400,activation='relu'))\n",
    "model.add(Dense(units=1,activation='sigmoid')) #Based on the threshold we say what is the cat and what is dog\n",
    "model.summary()"
   ]
  },
  {
   "cell_type": "code",
   "execution_count": 1,
   "id": "35ed5328",
   "metadata": {},
   "outputs": [
    {
     "data": {
      "text/plain": [
       "896"
      ]
     },
     "execution_count": 1,
     "metadata": {},
     "output_type": "execute_result"
    }
   ],
   "source": [
    "32*9*3+32  #Conv2d parameter (no of kernals * size of kernal * color channel + bias)"
   ]
  },
  {
   "cell_type": "code",
   "execution_count": 3,
   "id": "fc1b5cf1",
   "metadata": {},
   "outputs": [
    {
     "data": {
      "text/plain": [
       "18496"
      ]
     },
     "execution_count": 3,
     "metadata": {},
     "output_type": "execute_result"
    }
   ],
   "source": [
    "64*32*9+64"
   ]
  },
  {
   "cell_type": "code",
   "execution_count": null,
   "id": "137b425e",
   "metadata": {},
   "outputs": [],
   "source": []
  },
  {
   "cell_type": "code",
   "execution_count": null,
   "id": "66696fe8",
   "metadata": {},
   "outputs": [],
   "source": []
  },
  {
   "cell_type": "code",
   "execution_count": null,
   "id": "11157ec7",
   "metadata": {},
   "outputs": [],
   "source": []
  },
  {
   "cell_type": "code",
   "execution_count": null,
   "id": "d152cd4e",
   "metadata": {},
   "outputs": [],
   "source": []
  },
  {
   "cell_type": "code",
   "execution_count": 5,
   "id": "c8a7568d",
   "metadata": {},
   "outputs": [],
   "source": [
    "model.compile(optimizer='adam',loss='binary_crossentropy',metrics='accuracy')"
   ]
  },
  {
   "cell_type": "code",
   "execution_count": 6,
   "id": "959626fd",
   "metadata": {},
   "outputs": [
    {
     "name": "stdout",
     "output_type": "stream",
     "text": [
      "Epoch 1/10\n",
      "125/125 [==============================] - 440s 3s/step - loss: 0.7067 - accuracy: 0.5471 - val_loss: 0.6668 - val_accuracy: 0.6310\n",
      "Epoch 2/10\n",
      "125/125 [==============================] - 200s 2s/step - loss: 0.6486 - accuracy: 0.6299 - val_loss: 0.6569 - val_accuracy: 0.6275\n",
      "Epoch 3/10\n",
      "125/125 [==============================] - 199s 2s/step - loss: 0.6172 - accuracy: 0.6614 - val_loss: 0.6377 - val_accuracy: 0.6310\n",
      "Epoch 4/10\n",
      "125/125 [==============================] - 206s 2s/step - loss: 0.5957 - accuracy: 0.6825 - val_loss: 0.5811 - val_accuracy: 0.6970\n",
      "Epoch 5/10\n",
      "125/125 [==============================] - 206s 2s/step - loss: 0.5747 - accuracy: 0.6971 - val_loss: 0.5795 - val_accuracy: 0.6905\n",
      "Epoch 6/10\n",
      "125/125 [==============================] - 208s 2s/step - loss: 0.5540 - accuracy: 0.7191 - val_loss: 0.5503 - val_accuracy: 0.7195\n",
      "Epoch 7/10\n",
      "125/125 [==============================] - 210s 2s/step - loss: 0.5562 - accuracy: 0.7124 - val_loss: 0.5461 - val_accuracy: 0.7335\n",
      "Epoch 8/10\n",
      "125/125 [==============================] - 203s 2s/step - loss: 0.5293 - accuracy: 0.7314 - val_loss: 0.5141 - val_accuracy: 0.7575\n",
      "Epoch 9/10\n",
      "125/125 [==============================] - 211s 2s/step - loss: 0.5258 - accuracy: 0.7336 - val_loss: 0.5106 - val_accuracy: 0.7635\n",
      "Epoch 10/10\n",
      "125/125 [==============================] - 212s 2s/step - loss: 0.4972 - accuracy: 0.7615 - val_loss: 0.4962 - val_accuracy: 0.7665\n"
     ]
    },
    {
     "data": {
      "text/plain": [
       "<tensorflow.python.keras.callbacks.History at 0x24e3c33ae20>"
      ]
     },
     "execution_count": 6,
     "metadata": {},
     "output_type": "execute_result"
    }
   ],
   "source": [
    "model.fit(train_X,epochs=10,validation_data=test_X)"
   ]
  },
  {
   "cell_type": "code",
   "execution_count": 15,
   "id": "4c4430d6",
   "metadata": {},
   "outputs": [],
   "source": [
    "from tensorflow.keras.models import save_model,load_model"
   ]
  },
  {
   "cell_type": "code",
   "execution_count": 16,
   "id": "8e93fa11",
   "metadata": {},
   "outputs": [],
   "source": [
    "save_model(model,\"my_animal.h5\")"
   ]
  },
  {
   "cell_type": "code",
   "execution_count": 17,
   "id": "82db17d9",
   "metadata": {},
   "outputs": [],
   "source": [
    "from tensorflow.keras.preprocessing import image"
   ]
  },
  {
   "cell_type": "code",
   "execution_count": 32,
   "id": "a24b0533",
   "metadata": {},
   "outputs": [],
   "source": [
    "test_image = image.load_img(r\"E:\\NIkhil\\Machine Learning\\Work_Space\\dataset\\single_prediction\\cat_or_dog_1.jpg\",target_size=(128,128))"
   ]
  },
  {
   "cell_type": "code",
   "execution_count": 33,
   "id": "80140785",
   "metadata": {},
   "outputs": [],
   "source": [
    "test = image.img_to_array(test_image)"
   ]
  },
  {
   "cell_type": "code",
   "execution_count": 34,
   "id": "742e1d07",
   "metadata": {},
   "outputs": [
    {
     "data": {
      "text/plain": [
       "(128, 128, 3)"
      ]
     },
     "execution_count": 34,
     "metadata": {},
     "output_type": "execute_result"
    }
   ],
   "source": [
    "test.shape"
   ]
  },
  {
   "cell_type": "code",
   "execution_count": 35,
   "id": "5bd5f9b9",
   "metadata": {},
   "outputs": [],
   "source": [
    "test = test/255.  #preprocessing"
   ]
  },
  {
   "cell_type": "code",
   "execution_count": 36,
   "id": "209a1685",
   "metadata": {},
   "outputs": [
    {
     "data": {
      "text/plain": [
       "(1, 128, 128, 3)"
      ]
     },
     "execution_count": 36,
     "metadata": {},
     "output_type": "execute_result"
    }
   ],
   "source": [
    "import numpy as np\n",
    "#this step is required when you have only 1 image\n",
    "#adding the dimension to number of rows\n",
    "test = np.expand_dims(test,axis=0)\n",
    "test.shape"
   ]
  },
  {
   "cell_type": "code",
   "execution_count": 37,
   "id": "797030b0",
   "metadata": {},
   "outputs": [
    {
     "data": {
      "text/plain": [
       "array([[0.9563814]], dtype=float32)"
      ]
     },
     "execution_count": 37,
     "metadata": {},
     "output_type": "execute_result"
    }
   ],
   "source": [
    "model.predict(test)"
   ]
  },
  {
   "cell_type": "code",
   "execution_count": 3,
   "id": "aab2ad53",
   "metadata": {},
   "outputs": [],
   "source": [
    "from tensorflow.keras.preprocessing import image\n",
    "from tensorflow.keras.preprocessing.image import ImageDataGenerator"
   ]
  },
  {
   "cell_type": "code",
   "execution_count": 4,
   "id": "bca0737e",
   "metadata": {},
   "outputs": [],
   "source": [
    "test_image = image.load_img(r\"E:\\NIkhil\\Machine Learning\\Work_Space\\dataset\\single_prediction\\cat_or_dog_1.jpg\")"
   ]
  },
  {
   "cell_type": "code",
   "execution_count": 5,
   "id": "3c3db80c",
   "metadata": {},
   "outputs": [],
   "source": [
    "data_gen_train = ImageDataGenerator(rescale=1./255,rotation_range=30,\n",
    "                                    vertical_flip=True)"
   ]
  },
  {
   "cell_type": "code",
   "execution_count": 6,
   "id": "9a8d2977",
   "metadata": {},
   "outputs": [],
   "source": [
    "test = image.img_to_array(test_image)"
   ]
  },
  {
   "cell_type": "code",
   "execution_count": 7,
   "id": "27fc8f08",
   "metadata": {},
   "outputs": [
    {
     "data": {
      "text/plain": [
       "(720, 960, 3)"
      ]
     },
     "execution_count": 7,
     "metadata": {},
     "output_type": "execute_result"
    }
   ],
   "source": [
    "test.shape"
   ]
  },
  {
   "cell_type": "code",
   "execution_count": 8,
   "id": "d625c591",
   "metadata": {},
   "outputs": [
    {
     "data": {
      "text/plain": [
       "(1, 720, 960, 3)"
      ]
     },
     "execution_count": 8,
     "metadata": {},
     "output_type": "execute_result"
    }
   ],
   "source": [
    "import numpy as np\n",
    "test = np.expand_dims(test,axis=0)\n",
    "test.shape"
   ]
  },
  {
   "cell_type": "code",
   "execution_count": 10,
   "id": "c48c5837",
   "metadata": {},
   "outputs": [],
   "source": [
    "from tensorflow.keras.datasets import fashion_mnist\n",
    "(train_images, train_labels), (test_images, test_labels) = fashion_mnist.load_data()"
   ]
  },
  {
   "cell_type": "code",
   "execution_count": 11,
   "id": "eb226bfd",
   "metadata": {},
   "outputs": [],
   "source": [
    "train_images, test_images = train_images / 255.0, test_images / 255.0"
   ]
  },
  {
   "cell_type": "code",
   "execution_count": 13,
   "id": "cdbc7a57",
   "metadata": {},
   "outputs": [],
   "source": [
    "from tensorflow.keras.models import Sequential\n",
    "from tensorflow.keras.layers import Conv2D, MaxPooling2D, Flatten, Dense\n",
    "from tensorflow.keras.preprocessing.image import ImageDataGenerator"
   ]
  },
  {
   "cell_type": "code",
   "execution_count": 14,
   "id": "afb7929b",
   "metadata": {},
   "outputs": [
    {
     "name": "stdout",
     "output_type": "stream",
     "text": [
      "Model: \"sequential\"\n",
      "_________________________________________________________________\n",
      "Layer (type)                 Output Shape              Param #   \n",
      "=================================================================\n",
      "conv2d (Conv2D)              (None, 26, 26, 32)        320       \n",
      "_________________________________________________________________\n",
      "max_pooling2d (MaxPooling2D) (None, 13, 13, 32)        0         \n",
      "_________________________________________________________________\n",
      "conv2d_1 (Conv2D)            (None, 11, 11, 64)        18496     \n",
      "_________________________________________________________________\n",
      "max_pooling2d_1 (MaxPooling2 (None, 5, 5, 64)          0         \n",
      "_________________________________________________________________\n",
      "conv2d_2 (Conv2D)            (None, 3, 3, 64)          36928     \n",
      "_________________________________________________________________\n",
      "max_pooling2d_2 (MaxPooling2 (None, 1, 1, 64)          0         \n",
      "_________________________________________________________________\n",
      "flatten (Flatten)            (None, 64)                0         \n",
      "_________________________________________________________________\n",
      "dense (Dense)                (None, 400)               26000     \n",
      "_________________________________________________________________\n",
      "dense_1 (Dense)              (None, 10)                4010      \n",
      "=================================================================\n",
      "Total params: 85,754\n",
      "Trainable params: 85,754\n",
      "Non-trainable params: 0\n",
      "_________________________________________________________________\n"
     ]
    }
   ],
   "source": [
    "model = Sequential()\n",
    "model.add(Conv2D(filters=32,\n",
    "                kernel_size=(3,3),\n",
    "                input_shape=(28,28,1),\n",
    "                activation='relu'\n",
    "                ))\n",
    "model.add(MaxPooling2D(pool_size=(2,2)))\n",
    "model.add(Conv2D(filters=64,\n",
    "                kernel_size=(3,3),\n",
    "                activation='relu'))\n",
    "model.add(MaxPooling2D(pool_size=(2,2)))\n",
    "model.add(Conv2D(filters=64,\n",
    "                kernel_size=(3,3),\n",
    "                activation='relu'))\n",
    "model.add(MaxPooling2D(pool_size=(2,2)))\n",
    "model.add(Flatten())\n",
    "model.add(Dense(units=400,activation='relu'))\n",
    "model.add(Dense(units=10,activation='softmax')) \n",
    "model.summary()"
   ]
  },
  {
   "cell_type": "code",
   "execution_count": 15,
   "id": "bb2ed29c",
   "metadata": {},
   "outputs": [],
   "source": [
    "model.compile(optimizer='adam',loss='sparse_categorical_crossentropy',metrics='accuracy')"
   ]
  },
  {
   "cell_type": "code",
   "execution_count": 16,
   "id": "20b303c8",
   "metadata": {},
   "outputs": [],
   "source": [
    "data_gen_train = ImageDataGenerator(rescale=1./255,rotation_range=30,\n",
    "                                    vertical_flip=True)"
   ]
  },
  {
   "cell_type": "code",
   "execution_count": 23,
   "id": "6654dd2e",
   "metadata": {},
   "outputs": [
    {
     "name": "stderr",
     "output_type": "stream",
     "text": [
      "D:\\anaconda3\\lib\\site-packages\\tensorflow\\python\\keras\\engine\\training.py:1940: UserWarning: `Model.fit_generator` is deprecated and will be removed in a future version. Please use `Model.fit`, which supports generators.\n",
      "  warnings.warn('`Model.fit_generator` is deprecated and '\n"
     ]
    },
    {
     "name": "stdout",
     "output_type": "stream",
     "text": [
      "Epoch 1/5\n",
      "938/938 [==============================] - 40s 41ms/step - loss: 1.6039 - accuracy: 0.3727\n",
      "Epoch 2/5\n",
      "938/938 [==============================] - 39s 41ms/step - loss: 1.0472 - accuracy: 0.5858\n",
      "Epoch 3/5\n",
      "938/938 [==============================] - 39s 42ms/step - loss: 0.9640 - accuracy: 0.6204\n",
      "Epoch 4/5\n",
      "938/938 [==============================] - 41s 43ms/step - loss: 0.8978 - accuracy: 0.6481\n",
      "Epoch 5/5\n",
      "938/938 [==============================] - 40s 42ms/step - loss: 0.8397 - accuracy: 0.6727\n"
     ]
    },
    {
     "data": {
      "text/plain": [
       "<tensorflow.python.keras.callbacks.History at 0x2645824fc10>"
      ]
     },
     "execution_count": 23,
     "metadata": {},
     "output_type": "execute_result"
    }
   ],
   "source": [
    "model.fit_generator(data_gen_train.flow(train_images.reshape(train_images.shape[0],28,28,1),train_labels,batch_size=64),epochs=5)"
   ]
  },
  {
   "cell_type": "code",
   "execution_count": 24,
   "id": "5da03867",
   "metadata": {},
   "outputs": [
    {
     "name": "stdout",
     "output_type": "stream",
     "text": [
      "313/313 [==============================] - 1s 3ms/step - loss: 587.7521 - accuracy: 0.0823\n",
      "Test loss 587.7521362304688\n",
      "Test accuracy  0.08229999989271164\n"
     ]
    }
   ],
   "source": [
    "test_loss,test_acc=model.evaluate(test_images.reshape(test_images.shape[0],28,28,1),test_labels)\n",
    "print('Test loss',test_loss)\n",
    "print('Test accuracy ',test_acc)"
   ]
  },
  {
   "cell_type": "code",
   "execution_count": null,
   "id": "0178ca80",
   "metadata": {},
   "outputs": [],
   "source": []
  }
 ],
 "metadata": {
  "kernelspec": {
   "display_name": "Python 3",
   "language": "python",
   "name": "python3"
  },
  "language_info": {
   "codemirror_mode": {
    "name": "ipython",
    "version": 3
   },
   "file_extension": ".py",
   "mimetype": "text/x-python",
   "name": "python",
   "nbconvert_exporter": "python",
   "pygments_lexer": "ipython3",
   "version": "3.8.8"
  }
 },
 "nbformat": 4,
 "nbformat_minor": 5
}
